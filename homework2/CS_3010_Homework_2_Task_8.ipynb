{
  "nbformat": 4,
  "nbformat_minor": 0,
  "metadata": {
    "colab": {
      "provenance": []
    },
    "kernelspec": {
      "name": "python3",
      "display_name": "Python 3"
    },
    "language_info": {
      "name": "python"
    }
  },
  "cells": [
    {
      "cell_type": "markdown",
      "source": [
        "# **Functions**"
      ],
      "metadata": {
        "id": "Epxaq7Ur3flU"
      }
    },
    {
      "cell_type": "code",
      "execution_count": 4,
      "metadata": {
        "id": "j6KtZluY3V43"
      },
      "outputs": [],
      "source": [
        "\"\"\"\n",
        "  Implementation of the Gram-Schmidt process.\n",
        "\"\"\"\n",
        "\n",
        "import math\n",
        "\n",
        "def magnitude(vector):\n",
        "  \"\"\"\n",
        "    Calculates the magnitude of the vector.\n",
        "\n",
        "    Args:\n",
        "      vector - the vector to calculate the magnitude for.\n",
        "\n",
        "    Returns:\n",
        "      The magnitude of the vector.\n",
        "  \"\"\"\n",
        "  total = 0\n",
        "  for num in vector:\n",
        "    total += num ** 2\n",
        "\n",
        "  return math.sqrt(total)\n",
        "\n",
        "\n",
        "def subtract_vectors(vector1, vector2):\n",
        "  \"\"\"\n",
        "    Subtracts vector1 and vector2.\n",
        "\n",
        "    Args:\n",
        "      vector1 - the first vector.\n",
        "      vector2 - the second vector.\n",
        "\n",
        "    Returns:\n",
        "      The resulting vector after subtraction.\n",
        "  \"\"\"\n",
        "  subtracted = []\n",
        "  for i in range(len(vector1)):\n",
        "    subtracted.append(vector1[i] - vector2[i])\n",
        "\n",
        "  return subtracted\n",
        "\n",
        "\n",
        "def multiply_row_col_vectors(row_vector, col_vector):\n",
        "  \"\"\"\n",
        "    Multiplies 2 vectors together, where one is transposed (a^T * b).\n",
        "\n",
        "    Args:\n",
        "      row_vector - vector in row format.\n",
        "      col_vector - vector in column format.\n",
        "\n",
        "    Returns:\n",
        "      The sum of the two vectors multiplied (summation(a_i^T * b_i)).\n",
        "  \"\"\"\n",
        "  total = 0\n",
        "  for i in range(len(row_vector)):\n",
        "    total += row_vector[i] * col_vector[i]\n",
        "\n",
        "  return total\n",
        "\n",
        "\n",
        "def scale_vector(vector, constant):\n",
        "  \"\"\"\n",
        "    Scales vector by a constant.\n",
        "\n",
        "    Args:\n",
        "      vector - the vector to get multiplied.\n",
        "      constant - the number to multiply by.\n",
        "\n",
        "    Returns:\n",
        "      A vector that was scaled by the constant.\n",
        "  \"\"\"\n",
        "  scaled_vector = []\n",
        "  for i in range(len(vector)):\n",
        "    scaled_vector.append(vector[i] * constant)\n",
        "\n",
        "  return scaled_vector\n",
        "\n",
        "\n",
        "def projection(v, u):\n",
        "  \"\"\"\n",
        "    Implementing the orthogonal projection formula:\n",
        "      w = proj_v(u) = [(u^Tv) / (v^Tv)]v\n",
        "\n",
        "    Args:\n",
        "      v - vector to project onto u.\n",
        "      u - vector to get projected on.\n",
        "    Returns:\n",
        "      The orthogonal projection of v onto u.\n",
        "  \"\"\"\n",
        "  # v * [(u^Tv) / (v^Tv)]\n",
        "  w = scale_vector(v,\n",
        "        float(multiply_row_col_vectors(u, v)) / multiply_row_col_vectors(v, v))\n",
        "  return w\n",
        "\n",
        "\n",
        "def gram_schmidt(v_list):\n",
        "  \"\"\"\n",
        "      Orthonormalizes a set of vectors.\n",
        "\n",
        "      Args:\n",
        "          v_list - the set of vectors.\n",
        "\n",
        "      Returns:\n",
        "          The set of orthonormalizes vectors.\n",
        "  \"\"\"\n",
        "  e = []  # Orthonormalized vectors.\n",
        "  u = []\n",
        "  # For every vector in the list.\n",
        "  for i in range(len(v_list)):\n",
        "    # Add current vector into u.\n",
        "    u.append(v_list[i])\n",
        "    # For every existing u.\n",
        "    for j in range(i):\n",
        "      u[i] = subtract_vectors(u[i], projection(u[j], v_list[i]))\n",
        "    e.append(scale_vector(u[i], 1/magnitude(u[i])))\n",
        "\n",
        "  return e"
      ]
    },
    {
      "cell_type": "markdown",
      "source": [
        "# **Main**"
      ],
      "metadata": {
        "id": "dUoNBKR83tGI"
      }
    },
    {
      "cell_type": "code",
      "source": [
        "if __name__ == \"__main__\":\n",
        "  vector_list = [[2, 1, -1],\n",
        "                 [1, 1, 0],\n",
        "                 [0, -1, 1]]\n",
        "  results = gram_schmidt(vector_list)\n",
        "\n",
        "  print(\"Orthonormalized Vectors:\")\n",
        "  for result in results:\n",
        "    print(result)"
      ],
      "metadata": {
        "colab": {
          "base_uri": "https://localhost:8080/"
        },
        "id": "aWhdLw6R3eT6",
        "outputId": "2a499ea6-eaad-4d71-fd27-2066480737f6"
      },
      "execution_count": 3,
      "outputs": [
        {
          "output_type": "stream",
          "name": "stdout",
          "text": [
            "Orthonormalized Vectors:\n",
            "[0.8164965809277261, 0.4082482904638631, -0.4082482904638631]\n",
            "[0.0, 0.7071067811865475, 0.7071067811865475]\n",
            "[0.5773502691896256, -0.5773502691896257, 0.5773502691896257]\n"
          ]
        }
      ]
    }
  ]
}